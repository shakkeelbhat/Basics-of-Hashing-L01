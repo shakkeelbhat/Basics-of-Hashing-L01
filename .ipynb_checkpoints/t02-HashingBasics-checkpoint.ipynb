{
 "cells": [
  {
   "cell_type": "code",
   "execution_count": 1,
   "id": "835bb14e",
   "metadata": {},
   "outputs": [],
   "source": [
    "# to implement dictionaries and sets\n",
    "\n",
    "#searh  insert delete in O(1)\n",
    "\n",
    "#hashing is not useful for:\n",
    "   #finding closest value} -----\n",
    "   #sorted data}            ----          AVL or Red Black tree\n",
    "   #prefix searching"
   ]
  },
  {
   "cell_type": "code",
   "execution_count": 2,
   "id": "de4a92fa",
   "metadata": {},
   "outputs": [],
   "source": [
    "#applications of hashing\n",
    "#-------------------------#\n",
    "#implementing dictinaries\n",
    "#Database indexing : indexing to find records\n",
    "#cryptography\n",
    "#caches   like urls become keys and data associated becomes values\n",
    "#symbol tamles in compilers/interpreters\n",
    "#routers ---finding the addresses for devices\n",
    "#getting data from databasesg"
   ]
  },
  {
   "cell_type": "code",
   "execution_count": 3,
   "id": "c0d2ae83",
   "metadata": {},
   "outputs": [],
   "source": [
    "#using keys as array indexes doesnt work for phone numbers (1o**10), large numbers, strings\n",
    "\n",
    "#convert large values into small values and use as indexes  ------Hashing\n"
   ]
  },
  {
   "cell_type": "code",
   "execution_count": null,
   "id": "f222d5d2",
   "metadata": {},
   "outputs": [],
   "source": [
    "#collision handling\n",
    "\n",
    "#Perfect hashing > if we know the keys in advance  :: like designing dictionaries\n",
    "#if we do not know the keys in advance::\n",
    "    1#chaining -----make an array of linked list headers  (colliding keys are added to the linked list at the same index)\n",
    "        #performance:  m is no. of lsots in hash tables  -----  n is no. of keys to be inserted\n",
    "                 #load facto or alpha = n/m\n",
    "                 #Expected chain length = alpha\n",
    "                 #Expected time to search=O(1+alpha)  >> 1 for hash function computation + alphs for travelsal through chain\n",
    "                 #Expected time to insert, delete=O(1+alpha)\n",
    "                \n",
    "                \n",
    "                #not cache friendly  __|\\|\\|\\|\\__since data is at different locations\n",
    "                \n",
    "                #dynamic sized arrays are cache friendly\n",
    "                \n",
    "                \n",
    "                #Self balancing BST  do search, insert,delete at O(logl)   like from java v8   #no cache friendly\n",
    "    \n",
    "    \n",
    "    \n",
    "    2#open addressing>\n",
    "        #linear probing\n",
    "        #quadratic probing\n",
    "        #double hashing\n"
   ]
  },
  {
   "cell_type": "code",
   "execution_count": 28,
   "id": "f7657ea3",
   "metadata": {},
   "outputs": [],
   "source": [
    "class MyHash:\n",
    "    \n",
    "    def __init__(self,b):\n",
    "        self.BUCKET=b\n",
    "        self.table=[[] for x in range(b)]\n",
    "        \n",
    "    def insert(self,x):\n",
    "        i=x%self.BUCKET\n",
    "        self.table[i].append(x)\n",
    "        \n",
    "    def list_items(self):\n",
    "        return self.table\n",
    "        \n",
    "    def remove(self,x):\n",
    "        i=x%self.BUCKET\n",
    "        if x in table[i]:\n",
    "            self.table[i].remove(x)\n",
    "        else:\n",
    "            return None\n",
    "        \n",
    "    def search(self,x):\n",
    "        i=x%self.BUCKET\n",
    "        if x in self.table[i]:\n",
    "            return x in self.table[i]\n",
    "        else:\n",
    "            return False\n",
    "    "
   ]
  },
  {
   "cell_type": "code",
   "execution_count": 29,
   "id": "8b4453d9",
   "metadata": {},
   "outputs": [],
   "source": [
    "H=MyHash(7)"
   ]
  },
  {
   "cell_type": "code",
   "execution_count": 30,
   "id": "686d3bdf",
   "metadata": {},
   "outputs": [],
   "source": [
    "H.insert(50)"
   ]
  },
  {
   "cell_type": "code",
   "execution_count": 31,
   "id": "ed8c9eee",
   "metadata": {},
   "outputs": [],
   "source": [
    "H.insert(51)"
   ]
  },
  {
   "cell_type": "code",
   "execution_count": 32,
   "id": "e9e77a65",
   "metadata": {},
   "outputs": [],
   "source": [
    "H.insert(52)"
   ]
  },
  {
   "cell_type": "code",
   "execution_count": 33,
   "id": "c1c060d3",
   "metadata": {},
   "outputs": [],
   "source": [
    "H.insert(54)"
   ]
  },
  {
   "cell_type": "code",
   "execution_count": 34,
   "id": "e06d7b3c",
   "metadata": {},
   "outputs": [
    {
     "data": {
      "text/plain": [
       "[[], [50], [51], [52], [], [54], []]"
      ]
     },
     "execution_count": 34,
     "metadata": {},
     "output_type": "execute_result"
    }
   ],
   "source": [
    "H.list_items()"
   ]
  },
  {
   "cell_type": "code",
   "execution_count": 35,
   "id": "74f6dc77",
   "metadata": {},
   "outputs": [
    {
     "data": {
      "text/plain": [
       "True"
      ]
     },
     "execution_count": 35,
     "metadata": {},
     "output_type": "execute_result"
    }
   ],
   "source": [
    "H.search(50)"
   ]
  },
  {
   "cell_type": "code",
   "execution_count": 36,
   "id": "ffcf0ace",
   "metadata": {},
   "outputs": [
    {
     "data": {
      "text/plain": [
       "False"
      ]
     },
     "execution_count": 36,
     "metadata": {},
     "output_type": "execute_result"
    }
   ],
   "source": [
    "H.search(55)"
   ]
  },
  {
   "cell_type": "code",
   "execution_count": 37,
   "id": "2ad6d372",
   "metadata": {},
   "outputs": [],
   "source": [
    "#Open Addressing\n",
    "    #uses single array\n",
    "    #no. of slots in Hash table >=  no. of keys to be inserted\n",
    "    \n",
    "    #cache friendly\n",
    "\n",
    "                #linear probing \n",
    "                #Quadratic probing\n",
    "                #Double Hashing"
   ]
  },
  {
   "cell_type": "code",
   "execution_count": 38,
   "id": "44c29df0",
   "metadata": {
    "collapsed": true
   },
   "outputs": [],
   "source": [
    "#Linear Probing to solve collision\n",
    "    #if collision then linearly search for next empty slot    ))increment using modular arth.))circular manner\n",
    "    \n",
    "    \n",
    "    #while searching:\n",
    "                #--it linearly looks for the element\n",
    "                #doesnt stop on finding the deleted slot\n",
    "                #--stops on 1)finding they element or 2)if empty slot is found or 3)if whole hash table traversed\n",
    "            \n",
    "    #Deletion:::\n",
    "          #simply deleting a slot creates problem in searching---hence mark the slot as deleted and Not marked as empty\n",
    "            \n",
    "  ##Issue with linear probing\n",
    "            #clustering              since it inserts to next slot on collision\n",
    "            #clustering makes all other operati"
   ]
  },
  {
   "cell_type": "code",
   "execution_count": null,
   "id": "9b171b0b",
   "metadata": {},
   "outputs": [],
   "source": []
  }
 ],
 "metadata": {
  "kernelspec": {
   "display_name": "Python 3 (ipykernel)",
   "language": "python",
   "name": "python3"
  },
  "language_info": {
   "codemirror_mode": {
    "name": "ipython",
    "version": 3
   },
   "file_extension": ".py",
   "mimetype": "text/x-python",
   "name": "python",
   "nbconvert_exporter": "python",
   "pygments_lexer": "ipython3",
   "version": "3.10.7"
  }
 },
 "nbformat": 4,
 "nbformat_minor": 5
}
