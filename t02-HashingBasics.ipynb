{
 "cells": [
  {
   "cell_type": "code",
   "execution_count": 1,
   "id": "39433bdb",
   "metadata": {},
   "outputs": [],
   "source": [
    "#Hashing\n",
    "\n",
    "# to implement dictionaries and sets\n",
    "\n",
    "#searh  insert delete in O(1)\n",
    "\n",
    "#hashing is not useful for:\n",
    "   #finding closest value} -----\n",
    "   #sorted data}            ----          AVL or Red Black tree\n",
    "   #prefix searching"
   ]
  },
  {
   "cell_type": "code",
   "execution_count": 2,
   "id": "fc1764a0",
   "metadata": {},
   "outputs": [],
   "source": [
    "#applications of hashing\n",
    "#-------------------------#\n",
    "#implementing dictinaries\n",
    "#Database indexing : indexing to find records\n",
    "#cryptography\n",
    "#caches   like urls become keys and data associated becomes values\n",
    "#symbol tamles in compilers/interpreters\n",
    "#routers ---finding the addresses for devices\n",
    "#getting data from databasesg"
   ]
  },
  {
   "cell_type": "code",
   "execution_count": 3,
   "id": "298edda6",
   "metadata": {},
   "outputs": [],
   "source": [
    "#using keys as array indexes doesnt work for phone numbers (1o**10), large numbers, strings\n",
    "\n",
    "#convert large values into small values and use as indexes  ------Hashing\n"
   ]
  },
  {
   "cell_type": "code",
   "execution_count": null,
   "id": "ac08df09",
   "metadata": {},
   "outputs": [],
   "source": [
    "#collision handling\n",
    "\n",
    "#Perfect hashing > if we know the keys in advance  :: like designing dictionaries\n",
    "#if we do not know the keys in advance::\n",
    "    1#chaining -----make an array of linked list headers  (colliding keys are added to the linked list at the same index)\n",
    "        #performance:  m is no. of lsots in hash tables  -----  n is no. of keys to be inserted\n",
    "                 #load facto or alpha = n/m\n",
    "                 #Expected chain length = alpha\n",
    "                 #Expected time to search=O(1+alpha)  >> 1 for hash function computation + alphs for travelsal through chain\n",
    "                 #Expected time to insert, delete=O(1+alpha)\n",
    "                \n",
    "                \n",
    "                #not cache friendly  __|\\|\\|\\|\\__since data is at different locations\n",
    "                \n",
    "                #dynamic sized arrays are cache friendly\n",
    "                \n",
    "                \n",
    "                #Self balancing BST  do search, insert,delete at O(logl)   like from java v8   #no cache friendly\n",
    "    \n",
    "    \n",
    "    \n",
    "    2#open addressing>\n",
    "        #linear probing\n",
    "        #quadratic probing\n",
    "        #double hashing\n"
   ]
  },
  {
   "cell_type": "code",
   "execution_count": null,
   "id": "c22e7149",
   "metadata": {},
   "outputs": [],
   "source": []
  },
  {
   "cell_type": "code",
   "execution_count": 28,
   "id": "ed0c2467",
   "metadata": {},
   "outputs": [],
   "source": [
    "#chaining\n",
    "\n",
    "#in chaining, Hash table never fails ...even if we have more keys..no hash table resizing required\n",
    "\n",
    "\n",
    "\n",
    "class MyHash:\n",
    "    \n",
    "    def __init__(self,b):\n",
    "        self.BUCKET=b\n",
    "        self.table=[[] for x in range(b)]\n",
    "        \n",
    "    def insert(self,x):\n",
    "        i=x%self.BUCKET\n",
    "        self.table[i].append(x)\n",
    "        \n",
    "    def list_items(self):\n",
    "        return self.table\n",
    "        \n",
    "    def remove(self,x):\n",
    "        i=x%self.BUCKET\n",
    "        if x in table[i]:\n",
    "            self.table[i].remove(x)\n",
    "        else:\n",
    "            return None\n",
    "        \n",
    "    def search(self,x):\n",
    "        i=x%self.BUCKET\n",
    "        if x in self.table[i]:\n",
    "            return x in self.table[i]\n",
    "        else:\n",
    "            return False\n",
    "    "
   ]
  },
  {
   "cell_type": "code",
   "execution_count": 29,
   "id": "5012e852",
   "metadata": {},
   "outputs": [],
   "source": [
    "H=MyHash(7)"
   ]
  },
  {
   "cell_type": "code",
   "execution_count": 30,
   "id": "bcf45244",
   "metadata": {},
   "outputs": [],
   "source": [
    "H.insert(50)"
   ]
  },
  {
   "cell_type": "code",
   "execution_count": 31,
   "id": "e29047d6",
   "metadata": {},
   "outputs": [],
   "source": [
    "H.insert(51)"
   ]
  },
  {
   "cell_type": "code",
   "execution_count": 32,
   "id": "b8ca6597",
   "metadata": {},
   "outputs": [],
   "source": [
    "H.insert(52)"
   ]
  },
  {
   "cell_type": "code",
   "execution_count": 33,
   "id": "fd75278d",
   "metadata": {},
   "outputs": [],
   "source": [
    "H.insert(54)"
   ]
  },
  {
   "cell_type": "code",
   "execution_count": 34,
   "id": "482cd10f",
   "metadata": {},
   "outputs": [
    {
     "data": {
      "text/plain": [
       "[[], [50], [51], [52], [], [54], []]"
      ]
     },
     "execution_count": 34,
     "metadata": {},
     "output_type": "execute_result"
    }
   ],
   "source": [
    "H.list_items()"
   ]
  },
  {
   "cell_type": "code",
   "execution_count": 35,
   "id": "a7fcdc97",
   "metadata": {},
   "outputs": [
    {
     "data": {
      "text/plain": [
       "True"
      ]
     },
     "execution_count": 35,
     "metadata": {},
     "output_type": "execute_result"
    }
   ],
   "source": [
    "H.search(50)"
   ]
  },
  {
   "cell_type": "code",
   "execution_count": 36,
   "id": "c5104c72",
   "metadata": {},
   "outputs": [
    {
     "data": {
      "text/plain": [
       "False"
      ]
     },
     "execution_count": 36,
     "metadata": {},
     "output_type": "execute_result"
    }
   ],
   "source": [
    "H.search(55)"
   ]
  },
  {
   "cell_type": "code",
   "execution_count": 37,
   "id": "edddc398",
   "metadata": {},
   "outputs": [],
   "source": [
    "#Open Addressing\n",
    "    #uses single array\n",
    "    #no. of slots in Hash table >=  no. of keys to be inserted\n",
    "    \n",
    "    #cache friendly\n",
    "\n",
    "                #linear probing \n",
    "                #Quadratic probing\n",
    "                #Double Hashing"
   ]
  },
  {
   "cell_type": "code",
   "execution_count": 38,
   "id": "0d20034b",
   "metadata": {
    "collapsed": true
   },
   "outputs": [],
   "source": [
    "#Linear Probing to solve collision\n",
    "    #if collision then linearly search for next empty slot    ))increment using modular arth.))circular manner\n",
    "    \n",
    "    \n",
    "    #while searching:\n",
    "                #--it linearly looks for the element\n",
    "                #doesnt stop on finding the deleted slot\n",
    "                #--stops on 1)finding they element or 2)if empty slot is found or 3)if whole hash table traversed\n",
    "            \n",
    "    #Deletion:::\n",
    "    #simply deleting a slot creates problem in searching if marked as empty(as search would stop)---\n",
    "    #----hence mark the slot as deleted and Not empty\n",
    "            \n",
    "  ##Issue with linear probing\n",
    "            #clustering        clusters of contnuous slots are formed--since it inserts to next slot on collision\n",
    "            #clustering makes all other operations expensive \n",
    "        \n",
    "        \n",
    "        \n",
    "        #Clustering "
   ]
  },
  {
   "cell_type": "code",
   "execution_count": 39,
   "id": "5f3f10e7",
   "metadata": {},
   "outputs": [],
   "source": [
    "#hash(key,i)---> hash of a key when at ith probe= (h(key)+i) %7"
   ]
  },
  {
   "cell_type": "markdown",
   "id": "4404dc2a",
   "metadata": {},
   "source": [
    "The main disadvantage of primary clustering (linear probing) is cluster formation,\n",
    "...more number of elements form a group for which it takes time to search and find a free slot in the table.\n",
    "\n",
    "To overcome this issue secondary clustering (quadratic probing) is used."
   ]
  },
  {
   "cell_type": "markdown",
   "id": "f1ebdab0",
   "metadata": {},
   "source": [
    "Quadratic probing:\n",
    "\n",
    "(h(key)+i**2)%m\n",
    "Square means on collision it goes to ith square slot..first slot, then i=2 i,ce 4th slot, then 9th slot\n",
    "\n",
    "SECONDARY clusters formed\n",
    "Might not find an empty slot even if empties present...\n",
    " alpha < 0.5  and m is a prime number then only a free slot...that is number of slots(table size) should be more than double the number of keys"
   ]
  },
  {
   "cell_type": "markdown",
   "id": "d2d19d41",
   "metadata": {},
   "source": [
    "\n",
    "\n",
    "...Primary clustering means that if there is a cluster and the initial position of a new record would fall anywhere in the cluster the cluster size increases. \n",
    "             ...Linear probing leads to this type of clustering.\n",
    "\n",
    "...Secondary clustering is less severe, two records do only have the same collision chain if their initial position is the same. \n",
    "             ...For example quadratic probing leads to this type of clustering.\n"
   ]
  },
  {
   "cell_type": "markdown",
   "id": "51e20d4a",
   "metadata": {},
   "source": [
    "Double hashing:\n",
    "\n",
    "    (h1(key)+i*h2(key)) %m\n",
    "    \n",
    "Double hashing uses the idea of applying a second hash function to key when a collision occurs.\n",
    "\n",
    "    The advantage of Double hashing is that it is one of the best form of probing, producing a uniform distribution of records throughout a hash table.\n",
    "    This technique does not yield any clusters.\n",
    "    It is one of effective method for resolving collisions."
   ]
  },
  {
   "cell_type": "code",
   "execution_count": 181,
   "id": "603299cb",
   "metadata": {},
   "outputs": [],
   "source": [
    "#implementing Open addresssing\n",
    "#   -1 to indicate cell us empty\n",
    "\n",
    "#   -2 to indicate item was removed from the cell\n",
    "\n",
    "#what if -1 and -2 are actual elements in the hash?\n",
    "\n",
    "\n",
    "class MyHash:\n",
    "    def __init__(self,c):\n",
    "        self.cap=c\n",
    "        self.table=[-1]*c\n",
    "        self.size=0\n",
    "        \n",
    "    def hash(self,x):\n",
    "        return x%self.cap\n",
    "    \n",
    "    def insert(self,x):\n",
    "        if self.size == self.cap:\n",
    "            return False\n",
    "        if self.search(x)==True:\n",
    "            return False\n",
    "        index=self.hash(x)\n",
    "        t=self.table\n",
    "        while t[index] not in (-1,-2):\n",
    "            index= (index+1)% self.cap\n",
    "        t[index]=x\n",
    "        self.size=self.size+1\n",
    "        return True\n",
    "\n",
    "            \n",
    "            \n",
    "    def search(self,x):\n",
    "        i=self.hash(x)\n",
    "        while self.table != -1:\n",
    "            if self.table[i]==x:\n",
    "                return True\n",
    "            i=(i+1)%self.cap\n",
    "            if i==self.hash(x):\n",
    "                return False\n",
    "        return False\n",
    "    \n",
    "    def list_items(self):\n",
    "        return self.table\n",
    "    \n",
    "    \n",
    "    def remove(self,x):\n",
    "        if x in self.table:\n",
    "            i=self.table.index(x)\n",
    "            self.table[i]=-2\n",
    "        else:\n",
    "            return False"
   ]
  },
  {
   "cell_type": "code",
   "execution_count": 182,
   "id": "235161b0",
   "metadata": {},
   "outputs": [],
   "source": [
    "H=MyHash(7)"
   ]
  },
  {
   "cell_type": "code",
   "execution_count": 183,
   "id": "c21b694a",
   "metadata": {},
   "outputs": [
    {
     "data": {
      "text/plain": [
       "[-1, -1, -1, -1, -1, -1, -1]"
      ]
     },
     "execution_count": 183,
     "metadata": {},
     "output_type": "execute_result"
    }
   ],
   "source": [
    "H.list_items()"
   ]
  },
  {
   "cell_type": "code",
   "execution_count": 184,
   "id": "512dd043",
   "metadata": {},
   "outputs": [
    {
     "data": {
      "text/plain": [
       "True"
      ]
     },
     "execution_count": 184,
     "metadata": {},
     "output_type": "execute_result"
    }
   ],
   "source": [
    "H.insert(49)"
   ]
  },
  {
   "cell_type": "code",
   "execution_count": 185,
   "id": "294ea891",
   "metadata": {},
   "outputs": [
    {
     "data": {
      "text/plain": [
       "True"
      ]
     },
     "execution_count": 185,
     "metadata": {},
     "output_type": "execute_result"
    }
   ],
   "source": [
    "H.insert(50)"
   ]
  },
  {
   "cell_type": "code",
   "execution_count": 186,
   "id": "c9f9eefe",
   "metadata": {},
   "outputs": [
    {
     "data": {
      "text/plain": [
       "[49, 50, -1, -1, -1, -1, -1]"
      ]
     },
     "execution_count": 186,
     "metadata": {},
     "output_type": "execute_result"
    }
   ],
   "source": [
    "H.list_items()"
   ]
  },
  {
   "cell_type": "code",
   "execution_count": 187,
   "id": "63d09607",
   "metadata": {},
   "outputs": [
    {
     "data": {
      "text/plain": [
       "True"
      ]
     },
     "execution_count": 187,
     "metadata": {},
     "output_type": "execute_result"
    }
   ],
   "source": [
    "H.insert(51)"
   ]
  },
  {
   "cell_type": "code",
   "execution_count": 188,
   "id": "f2660eec",
   "metadata": {},
   "outputs": [
    {
     "data": {
      "text/plain": [
       "True"
      ]
     },
     "execution_count": 188,
     "metadata": {},
     "output_type": "execute_result"
    }
   ],
   "source": [
    "H.insert(63)"
   ]
  },
  {
   "cell_type": "code",
   "execution_count": 189,
   "id": "788f34f8",
   "metadata": {},
   "outputs": [
    {
     "data": {
      "text/plain": [
       "True"
      ]
     },
     "execution_count": 189,
     "metadata": {},
     "output_type": "execute_result"
    }
   ],
   "source": [
    "H.insert(69)"
   ]
  },
  {
   "cell_type": "code",
   "execution_count": 190,
   "id": "5bd4f3aa",
   "metadata": {},
   "outputs": [
    {
     "data": {
      "text/plain": [
       "[49, 50, 51, 63, -1, -1, 69]"
      ]
     },
     "execution_count": 190,
     "metadata": {},
     "output_type": "execute_result"
    }
   ],
   "source": [
    "H.list_items()"
   ]
  },
  {
   "cell_type": "code",
   "execution_count": 191,
   "id": "4691d37f",
   "metadata": {},
   "outputs": [
    {
     "data": {
      "text/plain": [
       "True"
      ]
     },
     "execution_count": 191,
     "metadata": {},
     "output_type": "execute_result"
    }
   ],
   "source": [
    "H.insert(58)"
   ]
  },
  {
   "cell_type": "code",
   "execution_count": 192,
   "id": "be921dcb",
   "metadata": {},
   "outputs": [
    {
     "data": {
      "text/plain": [
       "[49, 50, 51, 63, 58, -1, 69]"
      ]
     },
     "execution_count": 192,
     "metadata": {},
     "output_type": "execute_result"
    }
   ],
   "source": [
    "H.list_items()"
   ]
  },
  {
   "cell_type": "code",
   "execution_count": 193,
   "id": "b1815dd3",
   "metadata": {},
   "outputs": [
    {
     "data": {
      "text/plain": [
       "[49, 50, 51, 63, -2, -1, 69]"
      ]
     },
     "execution_count": 193,
     "metadata": {},
     "output_type": "execute_result"
    }
   ],
   "source": [
    "H.remove(58)\n",
    "H.list_items()"
   ]
  },
  {
   "cell_type": "markdown",
   "id": "0cc994ac",
   "metadata": {},
   "source": [
    "open adressing\n",
    "\n",
    "Have to resize if keys are more\n",
    "For resizing, doubling technique can be used"
   ]
  },
  {
   "cell_type": "markdown",
   "id": "83a72c18",
   "metadata": {},
   "source": [
    "#chaining vs Open addressing\n",
    "\n",
    "Performance\n",
    "x=alpha\n",
    "\n",
    "Chaining                         \n",
    "(1+x)\n",
    "\n",
    "\n",
    "Open addressing\n",
    "1/(1-x)\n",
    "\n",
    "so if alpha is .9  i,e  90 percent of the cells are occupied then\n",
    "\n",
    "1+x = 1.9       1/(1-x) = 10\n",
    "so even when Hash table size is same, 90 percent of hash table is occupied, then it will cost 1.9 vs 10 comparisons for unsuccesful search, insert, delete\n",
    "\n",
    "In order to make performance of open addressing same as chaining, we will have to reduce alpha. That is we have to Increase Table size.\n",
    "\n"
   ]
  }
 ],
 "metadata": {
  "kernelspec": {
   "display_name": "Python 3 (ipykernel)",
   "language": "python",
   "name": "python3"
  },
  "language_info": {
   "codemirror_mode": {
    "name": "ipython",
    "version": 3
   },
   "file_extension": ".py",
   "mimetype": "text/x-python",
   "name": "python",
   "nbconvert_exporter": "python",
   "pygments_lexer": "ipython3",
   "version": "3.10.7"
  }
 },
 "nbformat": 4,
 "nbformat_minor": 5
}
